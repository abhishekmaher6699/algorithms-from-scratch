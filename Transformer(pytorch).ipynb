{
  "nbformat": 4,
  "nbformat_minor": 0,
  "metadata": {
    "colab": {
      "provenance": [],
      "gpuType": "T4"
    },
    "kernelspec": {
      "name": "python3",
      "display_name": "Python 3"
    },
    "language_info": {
      "name": "python"
    },
    "accelerator": "GPU"
  },
  "cells": [
    {
      "cell_type": "code",
      "source": [
        "import torch\n",
        "device = 'cuda' if torch.cuda.is_available() else 'cpu'\n",
        "print(device)"
      ],
      "metadata": {
        "colab": {
          "base_uri": "https://localhost:8080/"
        },
        "id": "2g_AUNh7X1ff",
        "outputId": "2c8f7c7e-21c8-4f0a-d360-e8c48c9602d7"
      },
      "execution_count": 2,
      "outputs": [
        {
          "output_type": "stream",
          "name": "stdout",
          "text": [
            "cuda\n"
          ]
        }
      ]
    },
    {
      "cell_type": "code",
      "execution_count": 3,
      "metadata": {
        "id": "RK375GM-FSEX"
      },
      "outputs": [],
      "source": [
        "with open('/content/drive/MyDrive/Algorithms/shakespeare.txt', 'r', encoding='utf-8') as f:\n",
        "     text = f.read()"
      ]
    },
    {
      "cell_type": "code",
      "source": [
        "print(text[:1000])"
      ],
      "metadata": {
        "colab": {
          "base_uri": "https://localhost:8080/"
        },
        "id": "mx6B2H0hHiFy",
        "outputId": "7d174d81-d460-41b4-eb3c-b7adbb00f637"
      },
      "execution_count": 4,
      "outputs": [
        {
          "output_type": "stream",
          "name": "stdout",
          "text": [
            "  From fairest creatures we desire increase,\n",
            "  That thereby beauty's rose might never die,\n",
            "  But as the riper should by time decease,\n",
            "  His tender heir might bear his memory:\n",
            "  But thou contracted to thine own bright eyes,\n",
            "  Feed'st thy light's flame with self-substantial fuel,\n",
            "  Making a famine where abundance lies,\n",
            "  Thy self thy foe, to thy sweet self too cruel:\n",
            "  Thou that art now the world's fresh ornament,\n",
            "  And only herald to the gaudy spring,\n",
            "  Within thine own bud buriest thy content,\n",
            "  And tender churl mak'st waste in niggarding:\n",
            "    Pity the world, or else this glutton be,\n",
            "    To eat the world's due, by the grave and thee.\n",
            "\n",
            "\n",
            "                     2\n",
            "  When forty winters shall besiege thy brow,\n",
            "  And dig deep trenches in thy beauty's field,\n",
            "  Thy youth's proud livery so gazed on now,\n",
            "  Will be a tattered weed of small worth held:\n",
            "  Then being asked, where all thy beauty lies,\n",
            "  Where all the treasure of thy lusty days;\n",
            "  To say within thine own deep sunken eyes,\n",
            "  Were an all-e\n"
          ]
        }
      ]
    },
    {
      "cell_type": "code",
      "source": [
        "chars = sorted(list(set(text)))\n",
        "vocab_size = len(chars)\n",
        "print(''.join(chars))\n",
        "print(vocab_size)"
      ],
      "metadata": {
        "colab": {
          "base_uri": "https://localhost:8080/"
        },
        "id": "q_EoyKbcHnpS",
        "outputId": "510eac9c-1c3a-4e4d-ec20-f402d33f89ab"
      },
      "execution_count": 5,
      "outputs": [
        {
          "output_type": "stream",
          "name": "stdout",
          "text": [
            "\n",
            " !\"&'(),-.0123456789:;<>?ABCDEFGHIJKLMNOPQRSTUVWXYZ[]_`abcdefghijklmnopqrstuvwxyz|}\n",
            "84\n"
          ]
        }
      ]
    },
    {
      "cell_type": "code",
      "source": [
        "stoi = {ch:i for i,ch in enumerate(chars)}\n",
        "itos = {i:ch for i,ch in enumerate(chars)}\n",
        "encode = lambda s: [stoi[c] for c in s]\n",
        "decode = lambda l: ''.join([itos[i] for i in l])\n",
        "\n",
        "print(encode(\"hii there\"))\n",
        "print(decode(encode(\"hii there\")))"
      ],
      "metadata": {
        "colab": {
          "base_uri": "https://localhost:8080/"
        },
        "id": "WOpHO_bRKBzz",
        "outputId": "53e480db-7b53-441f-d8a6-8453979e9bee"
      },
      "execution_count": 6,
      "outputs": [
        {
          "output_type": "stream",
          "name": "stdout",
          "text": [
            "[63, 64, 64, 1, 75, 63, 60, 73, 60]\n",
            "hii there\n"
          ]
        }
      ]
    },
    {
      "cell_type": "code",
      "source": [
        "import torch\n",
        "data = torch.tensor(encode(text), dtype=torch.long)\n",
        "print(data.shape, data.dtype)\n",
        "print(data[:100])"
      ],
      "metadata": {
        "colab": {
          "base_uri": "https://localhost:8080/"
        },
        "id": "MZN_VOOWKCPS",
        "outputId": "1daea090-66f1-48de-93d9-8209a38c4ef9"
      },
      "execution_count": 7,
      "outputs": [
        {
          "output_type": "stream",
          "name": "stdout",
          "text": [
            "torch.Size([5436475]) torch.int64\n",
            "tensor([ 1,  1, 31, 73, 70, 68,  1, 61, 56, 64, 73, 60, 74, 75,  1, 58, 73, 60,\n",
            "        56, 75, 76, 73, 60, 74,  1, 78, 60,  1, 59, 60, 74, 64, 73, 60,  1, 64,\n",
            "        69, 58, 73, 60, 56, 74, 60,  8,  0,  1,  1, 45, 63, 56, 75,  1, 75, 63,\n",
            "        60, 73, 60, 57, 80,  1, 57, 60, 56, 76, 75, 80,  5, 74,  1, 73, 70, 74,\n",
            "        60,  1, 68, 64, 62, 63, 75,  1, 69, 60, 77, 60, 73,  1, 59, 64, 60,  8,\n",
            "         0,  1,  1, 27, 76, 75,  1, 56, 74,  1])\n"
          ]
        }
      ]
    },
    {
      "cell_type": "code",
      "source": [
        "n = int(len(data)*0.9)\n",
        "train_data = data[:n]\n",
        "val_data = data[n:]"
      ],
      "metadata": {
        "id": "30-r3_n6KjBN"
      },
      "execution_count": 8,
      "outputs": []
    },
    {
      "cell_type": "code",
      "source": [
        "block_size = 10\n",
        "train_data[:block_size+1]"
      ],
      "metadata": {
        "colab": {
          "base_uri": "https://localhost:8080/"
        },
        "id": "NnhNcjkXLBk0",
        "outputId": "7035a629-0d3f-4117-eb39-055c82c6b62b"
      },
      "execution_count": 9,
      "outputs": [
        {
          "output_type": "execute_result",
          "data": {
            "text/plain": [
              "tensor([ 1,  1, 31, 73, 70, 68,  1, 61, 56, 64, 73])"
            ]
          },
          "metadata": {},
          "execution_count": 9
        }
      ]
    },
    {
      "cell_type": "code",
      "source": [
        "x = train_data[:block_size]\n",
        "y = train_data[1:block_size+1]\n",
        "for t in range(block_size):\n",
        "    context = x[:t+1]\n",
        "    target = y[t]\n",
        "    print(f\"when input is {context} the target: {target}\")"
      ],
      "metadata": {
        "colab": {
          "base_uri": "https://localhost:8080/"
        },
        "id": "NNuxjGRLLGLr",
        "outputId": "ada80a49-f854-4017-872f-890de8462fd5"
      },
      "execution_count": 10,
      "outputs": [
        {
          "output_type": "stream",
          "name": "stdout",
          "text": [
            "when input is tensor([1]) the target: 1\n",
            "when input is tensor([1, 1]) the target: 31\n",
            "when input is tensor([ 1,  1, 31]) the target: 73\n",
            "when input is tensor([ 1,  1, 31, 73]) the target: 70\n",
            "when input is tensor([ 1,  1, 31, 73, 70]) the target: 68\n",
            "when input is tensor([ 1,  1, 31, 73, 70, 68]) the target: 1\n",
            "when input is tensor([ 1,  1, 31, 73, 70, 68,  1]) the target: 61\n",
            "when input is tensor([ 1,  1, 31, 73, 70, 68,  1, 61]) the target: 56\n",
            "when input is tensor([ 1,  1, 31, 73, 70, 68,  1, 61, 56]) the target: 64\n",
            "when input is tensor([ 1,  1, 31, 73, 70, 68,  1, 61, 56, 64]) the target: 73\n"
          ]
        }
      ]
    },
    {
      "cell_type": "code",
      "source": [
        "torch.manual_seed(1337)\n",
        "batch_size = 16\n",
        "block_size = 32\n",
        "\n",
        "def get_batch(split):\n",
        "  data = train_data if split == 'train' else val_data\n",
        "  ix = torch.randint(len(data) - block_size, (batch_size,))\n",
        "  x = torch.stack([data[i:i+block_size] for i in ix])\n",
        "  y = torch.stack([data[i+1:i+block_size+1] for i in ix])\n",
        "  return x.to(device), y.to(device)\n",
        "\n",
        "xb, yb = get_batch('train')\n",
        "print('inputs:')\n",
        "print(xb.shape)\n",
        "print(xb)\n",
        "print('targets:')\n",
        "print(yb.shape)\n",
        "print(yb)\n",
        "\n",
        "print('----')"
      ],
      "metadata": {
        "id": "ZlTo8fYeLjMu"
      },
      "execution_count": 77,
      "outputs": []
    },
    {
      "cell_type": "code",
      "source": [
        "@torch.no_grad()\n",
        "def estimate_loss():\n",
        "    out = {}\n",
        "    m.eval()\n",
        "    for split in ['train', 'val']:\n",
        "        losses = torch.zeros(eval_iters)\n",
        "        for k in range(eval_iters):\n",
        "            X, Y = get_batch(split)\n",
        "            logits, loss = m(X, Y)\n",
        "            losses[k] = loss.item()\n",
        "        out[split] = losses.mean()\n",
        "    m.train()\n",
        "    return out"
      ],
      "metadata": {
        "id": "bNXxlWclME3S"
      },
      "execution_count": 74,
      "outputs": []
    },
    {
      "cell_type": "code",
      "source": [
        "import torch\n",
        "import torch.nn as nn\n",
        "from torch.nn import functional as F\n",
        "torch.manual_seed(1337)\n",
        "\n",
        "n_embd = 32\n",
        "learning_rate = 3e-4\n",
        "max_iters = 5000\n",
        "eval_interval = 200\n",
        "eval_iters = 200\n",
        "n_head = 4\n",
        "n_layer = 4\n",
        "dropout = 0.2\n",
        "\n",
        "\n",
        "class Head(nn.Module):\n",
        "  def __init__(self, head_size):\n",
        "    super().__init__()\n",
        "    self.key = nn.Linear(n_embd, head_size, bias=False)\n",
        "    self.query = nn.Linear(n_embd, head_size, bias=False)\n",
        "    self.value = nn.Linear(n_embd, head_size, bias=False)\n",
        "    self.register_buffer('tril', torch.tril(torch.ones(block_size, block_size)))\n",
        "\n",
        "    self.dropout = nn.Dropout(dropout)\n",
        "\n",
        "  def forward(self, x):\n",
        "    B, T, C = x.shape\n",
        "    k = self.key(x)\n",
        "    q = self.query(x)\n",
        "\n",
        "    w = q @ k.transpose(-2, -1) * C**-0.5\n",
        "    w = w.masked_fill(self.tril[:T, :T] == 0, float('-inf'))\n",
        "    w = F.softmax(w, dim=-1)\n",
        "    w = self.dropout(w)\n",
        "    v = self.value(x)\n",
        "\n",
        "    out = w @ v\n",
        "    return out\n",
        "\n",
        "class MultiHead(nn.Module):\n",
        "  def __init__(self, num_heads, head_size):\n",
        "    super().__init__()\n",
        "    self.heads = nn.ModuleList([Head(head_size) for _ in range(num_heads)])\n",
        "    self.proj = nn.Linear(n_embd, n_embd)\n",
        "    self.dropout = nn.Dropout(dropout)\n",
        "\n",
        "  def forward(self, x):\n",
        "    out = torch.cat([h(x) for h in self.heads], dim=-1)\n",
        "    out = self.dropout(self.proj(out))\n",
        "    return out\n",
        "\n",
        "class FeedForward(nn.Module):\n",
        "  def __init__(self, n_embd):\n",
        "    super().__init__()\n",
        "    self.net = nn.Sequential(\n",
        "        nn.Linear(n_embd, 4*n_embd),\n",
        "        nn.ReLU(),\n",
        "        nn.Linear(4*n_embd, n_embd),\n",
        "        nn.Dropout(dropout)\n",
        "    )\n",
        "\n",
        "  def forward(self, x):\n",
        "    return self.net(x)\n",
        "\n",
        "class Block(nn.Module):\n",
        "  def __init__(self, n_embd, n_head):\n",
        "    super().__init__()\n",
        "    head_size = n_embd // n_head\n",
        "    self.sa = MultiHead(n_head, head_size)\n",
        "    self.ffwd = FeedForward(n_embd)\n",
        "    self.ln1 = nn.LayerNorm(n_embd)\n",
        "    self.ln2 = nn.LayerNorm(n_embd)\n",
        "\n",
        "  def forward(self, x):\n",
        "    x = x + self.sa(self.ln1(x))\n",
        "    x = x + self.ffwd(self.ln2(x))\n",
        "    return x\n",
        "\n",
        "class BigramLanguageModel(nn.Module):\n",
        "  def __init__(self):\n",
        "    super().__init__()\n",
        "    self.token_embedding_table = nn.Embedding(vocab_size, n_embd)\n",
        "    self.position_embedding_table = nn.Embedding(block_size, n_embd)\n",
        "    self.blocks = nn.Sequential(*[Block(n_embd, n_head=n_head) for _ in range(n_layer)]        )\n",
        "    self.ln_f = nn.LayerNorm(n_embd)\n",
        "    self.lm_head = nn.Linear(n_embd, vocab_size)\n",
        "\n",
        "  def forward(self, idx, targets=None):\n",
        "\n",
        "    B, T = idx.shape\n",
        "    token_emb = self.token_embedding_table(idx)\n",
        "    pos_emb = self.position_embedding_table(torch.arange(T, device=device))\n",
        "    x = token_emb + pos_emb\n",
        "    x = self.blocks(x)\n",
        "    x = self.ln_f(x)\n",
        "    logits = self.lm_head(x)\n",
        "\n",
        "    if targets is None:\n",
        "      loss = None\n",
        "    else:\n",
        "      B, T, C = logits.shape\n",
        "      logits = logits.view(B*T, C)\n",
        "      targets = targets.view(B*T)\n",
        "      loss = F.cross_entropy(logits, targets)\n",
        "    return logits, loss\n",
        "\n",
        "  def generate(self, idx, max_new_tokens):\n",
        "    for _ in range(max_new_tokens):\n",
        "      idx_cond = idx[:, -block_size:]\n",
        "      logits, loss = self(idx_cond)\n",
        "      logits = logits[:, -1, :]\n",
        "      probs = F.softmax(logits, dim=-1)\n",
        "      idx_next = torch.multinomial(probs, num_samples=1)\n",
        "      idx = torch.cat((idx, idx_next), dim=1)\n",
        "    return idx\n",
        "\n",
        "\n",
        "m = BigramLanguageModel()\n",
        "m = m.to(device)"
      ],
      "metadata": {
        "id": "fSDV2aAKM2VM"
      },
      "execution_count": 78,
      "outputs": []
    },
    {
      "cell_type": "code",
      "source": [
        "idx = torch.zeros((1,1), dtype=torch.long, device=device)\n",
        "out = m.generate(idx, max_new_tokens=100)\n",
        "print(decode(out[0].tolist()))"
      ],
      "metadata": {
        "colab": {
          "base_uri": "https://localhost:8080/"
        },
        "id": "MmrXHrA0NtfA",
        "outputId": "444a555f-34aa-4037-e668-99c8d129f1e5"
      },
      "execution_count": 79,
      "outputs": [
        {
          "output_type": "stream",
          "name": "stdout",
          "text": [
            "\n",
            "GeyRxJ0;xDRXF>JewNH;8rTP6GCwexP77&]AUL\"RDjsnBr9JzTWAjU`e06b\n",
            "Q!f>&Mm'&LT}AVwn\"o79)WW,&bd-yU:`HsT&29[A\n"
          ]
        }
      ]
    },
    {
      "cell_type": "code",
      "source": [
        "# batch_size = 32\n",
        "# max_iters = 1000\n",
        "# eval_interval = 100\n",
        "\n",
        "optimizer = torch.optim.AdamW(m.parameters(), lr=learning_rate)\n",
        "\n",
        "for steps in range(max_iters):\n",
        "\n",
        "\n",
        "  if steps % eval_interval == 0 or steps == max_iters - 1:\n",
        "        losses = estimate_loss()\n",
        "        print(f\"step {iter}: train loss {losses['train']:.4f}, val loss {losses['val']:.4f}\")\n",
        "\n",
        "  xb, yb = get_batch('train')\n",
        "\n",
        "  logits, loss = m(xb, yb)\n",
        "  optimizer.zero_grad(set_to_none=True)\n",
        "  loss.backward()\n",
        "  optimizer.step()\n",
        "\n",
        "print(loss.item())"
      ],
      "metadata": {
        "colab": {
          "base_uri": "https://localhost:8080/"
        },
        "id": "hpcQDkp1Out-",
        "outputId": "53b855c5-758e-4bf1-9f29-9fc98d103498"
      },
      "execution_count": 80,
      "outputs": [
        {
          "output_type": "stream",
          "name": "stdout",
          "text": [
            "step <built-in function iter>: train loss 4.5670, val loss 4.5631\n",
            "step <built-in function iter>: train loss 3.1678, val loss 3.1955\n",
            "step <built-in function iter>: train loss 2.9312, val loss 2.9348\n",
            "step <built-in function iter>: train loss 2.7363, val loss 2.7619\n",
            "step <built-in function iter>: train loss 2.6155, val loss 2.6246\n",
            "step <built-in function iter>: train loss 2.5423, val loss 2.5409\n",
            "step <built-in function iter>: train loss 2.4828, val loss 2.4979\n",
            "step <built-in function iter>: train loss 2.4506, val loss 2.4660\n",
            "step <built-in function iter>: train loss 2.4171, val loss 2.4380\n",
            "step <built-in function iter>: train loss 2.4023, val loss 2.4097\n",
            "step <built-in function iter>: train loss 2.3703, val loss 2.3899\n",
            "step <built-in function iter>: train loss 2.3532, val loss 2.3717\n",
            "step <built-in function iter>: train loss 2.3378, val loss 2.3539\n",
            "step <built-in function iter>: train loss 2.3362, val loss 2.3384\n",
            "step <built-in function iter>: train loss 2.3090, val loss 2.3350\n",
            "step <built-in function iter>: train loss 2.3026, val loss 2.3198\n",
            "step <built-in function iter>: train loss 2.2937, val loss 2.3067\n",
            "step <built-in function iter>: train loss 2.2699, val loss 2.2903\n",
            "step <built-in function iter>: train loss 2.2641, val loss 2.2764\n",
            "step <built-in function iter>: train loss 2.2674, val loss 2.2582\n",
            "step <built-in function iter>: train loss 2.2528, val loss 2.2628\n",
            "step <built-in function iter>: train loss 2.2445, val loss 2.2474\n",
            "step <built-in function iter>: train loss 2.2262, val loss 2.2326\n",
            "step <built-in function iter>: train loss 2.2220, val loss 2.2425\n",
            "step <built-in function iter>: train loss 2.2178, val loss 2.2338\n",
            "step <built-in function iter>: train loss 2.2091, val loss 2.2145\n",
            "2.397667169570923\n"
          ]
        }
      ]
    },
    {
      "cell_type": "code",
      "source": [
        "idx = torch.zeros((1,1), dtype=torch.long, device = device)\n",
        "out = m.generate(idx, max_new_tokens=500)\n",
        "print(decode(out[0].tolist()))"
      ],
      "metadata": {
        "colab": {
          "base_uri": "https://localhost:8080/"
        },
        "id": "G9ouFZjpR8l6",
        "outputId": "da750f00-ff3f-4416-a7a0-2b49194e41a6"
      },
      "execution_count": 81,
      "outputs": [
        {
          "output_type": "stream",
          "name": "stdout",
          "text": [
            "\n",
            "   PAR. ithins whins sowth srad a indes e Anerttes\n",
            "        Aoverf. ith llle bue hasins su bemeneeee che.\n",
            "     INErblllow y thonmbr lifll beas\n",
            "     mpe'land fon stoth Corist, meresat,\n",
            "     Chef thanis wo there winorow sg seame polou\n",
            "    f  tHevou ve sef\n",
            "  Spleirst y thay the a here? I I thencho,\n",
            "       Noutht thof my saord hha\n",
            "         Thapour\n",
            " SInd re wowl an Wis, libang? lah, ih estete forp. mere.eaie aninds f.  Anthe nowy beastormy her, t ta bedeavef f pak hetiflitousg his; y bylin cownd\n",
            "     \n"
          ]
        }
      ]
    },
    {
      "cell_type": "code",
      "source": [],
      "metadata": {
        "id": "PuQh1CztW9Q9"
      },
      "execution_count": null,
      "outputs": []
    }
  ]
}